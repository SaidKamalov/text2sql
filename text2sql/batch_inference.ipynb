{
 "cells": [
  {
   "cell_type": "code",
   "execution_count": 1,
   "id": "169985a0",
   "metadata": {},
   "outputs": [],
   "source": [
    "from batch_inference_llm import create_batch_file, push_batch_file, create_batch, get_batch_status, download_batch_results\n",
    "from enums import InferenceOptions\n",
    "from utils import post_process_sql, post_process_responce_string\n",
    "import json"
   ]
  },
  {
   "cell_type": "code",
   "execution_count": 2,
   "id": "65791c0a",
   "metadata": {},
   "outputs": [],
   "source": [
    "# PARAMS\n",
    "\n",
    "PROMPTS_FILE = './pipeline_results/prompts.json'\n",
    "\n",
    "INFERENCE_MODELS = [InferenceOptions.SQL_UNI, InferenceOptions.SQL_REASON]"
   ]
  },
  {
   "cell_type": "code",
   "execution_count": 3,
   "id": "543cc64c",
   "metadata": {},
   "outputs": [
    {
     "name": "stdout",
     "output_type": "stream",
     "text": [
      "DEV_MESSAGE: You are an expert SQL translator specialized in converting natural language queries into correct and efficient SQL statements.\n",
      "Pay attention to PROVIDED INFORMATION and EXAMPLES.\n",
      "If aliases for table names are needed use: T1, T2 ... as aliases!\n",
      "\n",
      "# Response Formats\n",
      "\n",
      "## response_format_schema\n",
      "{\"type\": \"object\",\"properties\": {\"sql_query\": {\"type\": \"string\",},}}\n"
     ]
    }
   ],
   "source": [
    "DEV_MESSAGE = \"You are an expert SQL translator specialized in converting natural language queries into correct and efficient SQL statements.\\n\"\n",
    "DEV_MESSAGE += \"Pay attention to PROVIDED INFORMATION and EXAMPLES.\\n\"\n",
    "DEV_MESSAGE += \"If aliases for table names are needed use: T1, T2 ... as aliases!\\n\\n\"\n",
    "DEV_MESSAGE += \"\"\"# Response Formats\\n\\n## response_format_schema\\n{\"type\": \"object\",\"properties\": {\"sql_query\": {\"type\": \"string\",},}}\"\"\"\n",
    "print(f'DEV_MESSAGE: {DEV_MESSAGE}')"
   ]
  },
  {
   "cell_type": "code",
   "execution_count": 4,
   "id": "0e9b8321",
   "metadata": {},
   "outputs": [
    {
     "name": "stdout",
     "output_type": "stream",
     "text": [
      "Key: openai$full_schema\n",
      "Key: reasoning$full_schema\n",
      "Key: openai$full_schema$fk\n",
      "Key: reasoning$full_schema$fk\n",
      "Key: openai$full_schema$fk$random_hardness$3\n",
      "Key: openai$full_schema$fk$random_hardness$5\n",
      "Key: openai$full_schema$fk$cosine_sim_hardness$3\n",
      "Key: openai$full_schema$fk$cosine_sim_hardness$5\n",
      "Key: reasoning$full_schema$fk$random_hardness$3\n",
      "Key: reasoning$full_schema$fk$random_hardness$5\n",
      "Key: reasoning$full_schema$fk$cosine_sim_hardness$3\n",
      "Key: reasoning$full_schema$fk$cosine_sim_hardness$5\n"
     ]
    }
   ],
   "source": [
    "with open(PROMPTS_FILE, 'r') as f:\n",
    "    list_of_dicts = json.load(f)\n",
    "\n",
    "prompt_merged_dict = {}\n",
    "for d in list_of_dicts:\n",
    "    prompt_merged_dict.update(d)\n",
    "\n",
    "for k in prompt_merged_dict.keys():\n",
    "    print(f'Key: {k}')"
   ]
  },
  {
   "cell_type": "markdown",
   "id": "6743fff9",
   "metadata": {},
   "source": [
    "---"
   ]
  },
  {
   "cell_type": "code",
   "execution_count": 5,
   "id": "b8e9c514",
   "metadata": {},
   "outputs": [],
   "source": [
    "propmpt_type = 'openai$full_schema'"
   ]
  },
  {
   "cell_type": "code",
   "execution_count": 6,
   "id": "91211199",
   "metadata": {},
   "outputs": [
    {
     "name": "stdout",
     "output_type": "stream",
     "text": [
      "Batch file 'openai$full_schema.jsonl'created successfully. 1034 requests.\n"
     ]
    }
   ],
   "source": [
    "create_batch_file(\n",
    "    inference_option=InferenceOptions.SQL_UNI,\n",
    "    prompts=prompt_merged_dict[propmpt_type],\n",
    "    dev_message=DEV_MESSAGE,\n",
    "    file_name=propmpt_type\n",
    ")"
   ]
  },
  {
   "cell_type": "code",
   "execution_count": 7,
   "id": "f2496d06",
   "metadata": {},
   "outputs": [
    {
     "name": "stdout",
     "output_type": "stream",
     "text": [
      "FileObject(id='file-PdPzKyrURg74cFJRL9Lbop', bytes=1461458, created_at=1748172529, filename='openai$full_schema.jsonl', object='file', purpose='batch', status='processed', expires_at=None, status_details=None)\n"
     ]
    }
   ],
   "source": [
    "file_id = push_batch_file(propmpt_type)"
   ]
  },
  {
   "cell_type": "code",
   "execution_count": 8,
   "id": "6608fc40",
   "metadata": {},
   "outputs": [
    {
     "name": "stdout",
     "output_type": "stream",
     "text": [
      "Batch created:\n",
      " Batch(id='batch_6832ff2a635081908b6fca2dea42a094', completion_window='24h', created_at=1748172586, endpoint='/v1/responses', input_file_id='file-PdPzKyrURg74cFJRL9Lbop', object='batch', status='validating', cancelled_at=None, cancelling_at=None, completed_at=None, error_file_id=None, errors=None, expired_at=None, expires_at=1748258986, failed_at=None, finalizing_at=None, in_progress_at=None, metadata={'description': 'openai$full_schema v0'}, output_file_id=None, request_counts=BatchRequestCounts(completed=0, failed=0, total=0))\n"
     ]
    }
   ],
   "source": [
    "batch = create_batch(file_id=file_id, description=f\"{propmpt_type} v0\")\n",
    "print(f'Batch created:\\n {batch}')"
   ]
  },
  {
   "cell_type": "markdown",
   "id": "a4ece9b3",
   "metadata": {},
   "source": [
    "---"
   ]
  },
  {
   "cell_type": "code",
   "execution_count": 9,
   "id": "7c459fbe",
   "metadata": {},
   "outputs": [
    {
     "name": "stdout",
     "output_type": "stream",
     "text": [
      "file-27KpgfMGsQy9pJaCerkmaw\n"
     ]
    }
   ],
   "source": [
    "print(get_batch_status('batch_6832ff2a635081908b6fca2dea42a094').output_file_id)"
   ]
  },
  {
   "cell_type": "code",
   "execution_count": 10,
   "id": "0f099db1",
   "metadata": {},
   "outputs": [
    {
     "name": "stdout",
     "output_type": "stream",
     "text": [
      "Batch results downloaded to openai$full_schema\n"
     ]
    }
   ],
   "source": [
    "download_batch_results('file-27KpgfMGsQy9pJaCerkmaw', 'openai$full_schema')"
   ]
  },
  {
   "cell_type": "code",
   "execution_count": 11,
   "id": "760931af",
   "metadata": {},
   "outputs": [],
   "source": [
    "responce = []\n",
    "with open('./pipeline_results/openai$full_schema.jsonl', 'r') as f:\n",
    "    for line in f:\n",
    "        responce_dict = json.loads(line)\n",
    "        responce.append(responce_dict)\n"
   ]
  },
  {
   "cell_type": "code",
   "execution_count": 12,
   "id": "18f77540",
   "metadata": {},
   "outputs": [
    {
     "data": {
      "text/plain": [
       "'{\"sql_query\": \"SELECT COUNT(*) FROM singer;\"}'"
      ]
     },
     "execution_count": 12,
     "metadata": {},
     "output_type": "execute_result"
    }
   ],
   "source": [
    "# responce[0]['response']['body']['output'][1]['content'][0]['text'] - reasoning\n",
    "responce[0]['response']['body']['output'][0]['content'][0]['text']"
   ]
  },
  {
   "cell_type": "code",
   "execution_count": 61,
   "id": "1f934078",
   "metadata": {},
   "outputs": [
    {
     "data": {
      "text/plain": [
       "'0'"
      ]
     },
     "execution_count": 61,
     "metadata": {},
     "output_type": "execute_result"
    }
   ],
   "source": [
    "responce[0]['custom_id']"
   ]
  },
  {
   "cell_type": "code",
   "execution_count": 13,
   "id": "79a50586",
   "metadata": {},
   "outputs": [
    {
     "name": "stdout",
     "output_type": "stream",
     "text": [
      "len(results): 1034\n"
     ]
    }
   ],
   "source": [
    "results = []\n",
    "for r in responce:\n",
    "    res = {\n",
    "        \"id\": int(r['custom_id']),\n",
    "    }\n",
    "    try:\n",
    "        responce_text = r['response']['body']['output'][0]['content'][0]['text']\n",
    "    except (KeyError, IndexError):\n",
    "        responce_text = \"{'sql_query': 'SELECT'}\"\n",
    "\n",
    "    processed_responce_text = post_process_responce_string(responce_text)\n",
    "    res['sql'] = processed_responce_text\n",
    "    results.append(res)\n",
    "print(f'len(results): {len(results)}')\n",
    "    "
   ]
  },
  {
   "cell_type": "code",
   "execution_count": 14,
   "id": "89b48fd3",
   "metadata": {},
   "outputs": [
    {
     "data": {
      "text/plain": [
       "[{'id': 0, 'sql': 'SELECT COUNT(*) FROM singer;'},\n",
       " {'id': 1, 'sql': 'SELECT COUNT(*) FROM singer;'},\n",
       " {'id': 2, 'sql': 'SELECT name, country, age FROM singer ORDER BY age DESC;'},\n",
       " {'id': 3, 'sql': 'SELECT name, country, age FROM singer ORDER BY age DESC;'},\n",
       " {'id': 4,\n",
       "  'sql': \"SELECT AVG(age), MIN(age), MAX(age) FROM singer WHERE country = 'France';\"}]"
      ]
     },
     "execution_count": 14,
     "metadata": {},
     "output_type": "execute_result"
    }
   ],
   "source": [
    "results[:5]"
   ]
  },
  {
   "cell_type": "code",
   "execution_count": 15,
   "id": "eddc2a45",
   "metadata": {},
   "outputs": [],
   "source": [
    "results.sort(key=lambda x: x['id'])"
   ]
  },
  {
   "cell_type": "code",
   "execution_count": 16,
   "id": "cad68d02",
   "metadata": {},
   "outputs": [],
   "source": [
    "output_file = './pipeline_results/dev_pred_openai$full_schema_v1.txt'\n",
    "with open(output_file, \"w\") as f:\n",
    "    for r in results:\n",
    "        f.write(post_process_sql(r['sql'])+'\\n')"
   ]
  },
  {
   "cell_type": "code",
   "execution_count": null,
   "id": "8f40a7b6",
   "metadata": {},
   "outputs": [
    {
     "name": "stdout",
     "output_type": "stream",
     "text": [
      "len(results): 1034\n"
     ]
    }
   ],
   "source": [
    "# results = []\n",
    "# for r in responce:\n",
    "#     res = {\n",
    "#         \"id\": int(r['custom_id']),\n",
    "#     }\n",
    "#     try:\n",
    "#         sql = r['response']['body']['output'][1]['content'][0]['text']\n",
    "#     except (KeyError, IndexError):\n",
    "#         sql = \"{'sql_query': 'SELECT'}\"\n",
    "    \n",
    "#     # if int(r['custom_id']) == 188:\n",
    "#     #     print(sql)\n",
    "#     try:\n",
    "#         d = json.loads(sql)\n",
    "#     except Exception:\n",
    "#         d = {}\n",
    "\n",
    "#     res_sql = d.get('sql_query', 'SELECT')\n",
    "#     if not res_sql.startswith('SELECT'):\n",
    "#         res_sql = 'SELECT'\n",
    "\n",
    "#     res['sql'] = res_sql\n",
    "#     results.append(res)\n",
    "# print(f'len(results): {len(results)}')"
   ]
  },
  {
   "cell_type": "code",
   "execution_count": 49,
   "id": "3c29c2c1",
   "metadata": {},
   "outputs": [
    {
     "data": {
      "text/plain": [
       "{'id': 188, 'sql': 'SELECT'}"
      ]
     },
     "execution_count": 49,
     "metadata": {},
     "output_type": "execute_result"
    }
   ],
   "source": [
    "results[188]\n"
   ]
  }
 ],
 "metadata": {
  "kernelspec": {
   "display_name": ".venv",
   "language": "python",
   "name": "python3"
  },
  "language_info": {
   "codemirror_mode": {
    "name": "ipython",
    "version": 3
   },
   "file_extension": ".py",
   "mimetype": "text/x-python",
   "name": "python",
   "nbconvert_exporter": "python",
   "pygments_lexer": "ipython3",
   "version": "3.10.4"
  }
 },
 "nbformat": 4,
 "nbformat_minor": 5
}
