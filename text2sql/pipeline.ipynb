{
 "cells": [
  {
   "cell_type": "code",
   "execution_count": 1,
   "metadata": {},
   "outputs": [],
   "source": [
    "from datasets import SpiderDataset\n",
    "from prompt.prompt_templates import OAIPrompt, ReasoningPrompt\n",
    "from pprint import pprint\n",
    "from inference_llm import get_sql_uni_llm, get_sql_reason_llm\n",
    "from tqdm import tqdm\n",
    "import json"
   ]
  },
  {
   "cell_type": "markdown",
   "metadata": {},
   "source": [
    "---"
   ]
  },
  {
   "cell_type": "code",
   "execution_count": 2,
   "metadata": {},
   "outputs": [
    {
     "name": "stderr",
     "output_type": "stream",
     "text": [
      "Processing samples: 1034it [00:00, 382409.87it/s]\n"
     ]
    }
   ],
   "source": [
    "test_dataset = SpiderDataset(\n",
    "        dataset_dir=\"spider_data\",\n",
    "        file_name=\"dev.json\",\n",
    "        path_to_gold=\"dev_gold.sql\",\n",
    "        table_file_path=\"tables.json\",\n",
    "    )"
   ]
  },
  {
   "cell_type": "code",
   "execution_count": 3,
   "metadata": {},
   "outputs": [],
   "source": [
    "test_samples = test_dataset.samples[:10]"
   ]
  },
  {
   "cell_type": "code",
   "execution_count": 18,
   "metadata": {},
   "outputs": [],
   "source": [
    "with open('./pipeline_results/dev_gold.txt', 'w') as f:\n",
    "    for t in test_samples:\n",
    "        f.write(t.query_gold + '\\t' + t.db_id +'\\n')"
   ]
  },
  {
   "cell_type": "code",
   "execution_count": 11,
   "metadata": {},
   "outputs": [],
   "source": [
    "op_rule='You must minimize execution time while ensuring correctness.'\n",
    "DEV_MESSAGE = \"You are an expert SQL translator specialized in converting natural language queries into correct and efficient SQL statements.\\n\"\n",
    "DEV_MESSAGE += \"Do not use any aliases for tables or columns!\\n\\n\"\n",
    "DEV_MESSAGE += \"\"\"# Response Formats\\n\\n## response_format_schema\\n{\"type\": \"object\",\"properties\": {\"sql_query\": {\"type\": \"string\",},}}\"\"\"\n"
   ]
  },
  {
   "cell_type": "code",
   "execution_count": 12,
   "metadata": {},
   "outputs": [
    {
     "name": "stdout",
     "output_type": "stream",
     "text": [
      "You are an expert SQL translator specialized in converting natural language queries into correct and efficient SQL statements.\n",
      "Do not use any aliases for tables or columns!\n",
      "\n",
      "# Response Formats\n",
      "\n",
      "## response_format_schema\n",
      "{\"type\": \"object\",\"properties\": {\"sql_query\": {\"type\": \"string\",},}}\n"
     ]
    }
   ],
   "source": [
    "print(DEV_MESSAGE)"
   ]
  },
  {
   "cell_type": "markdown",
   "metadata": {},
   "source": [
    "## OAI base"
   ]
  },
  {
   "cell_type": "code",
   "execution_count": null,
   "metadata": {},
   "outputs": [
    {
     "name": "stderr",
     "output_type": "stream",
     "text": [
      "100%|██████████| 3/3 [00:03<00:00,  1.16s/it]\n"
     ]
    }
   ],
   "source": [
    "responces_to_save_OAI_base = []\n",
    "\n",
    "for s in tqdm(test_samples):\n",
    "    prompt = OAIPrompt.build_prompt(\n",
    "        sample=s, k=0, op_rule=op_rule\n",
    "    )\n",
    "    responce = get_sql_uni_llm(prompt, model=\"gpt-4o-2024-08-06\", dev_message=DEV_MESSAGE)\n",
    "    responces_to_save_OAI_base.append(responce)"
   ]
  },
  {
   "cell_type": "code",
   "execution_count": 21,
   "metadata": {},
   "outputs": [
    {
     "name": "stderr",
     "output_type": "stream",
     "text": [
      "/var/folders/p2/skh823fd5t5fcl9_fbmxvw24rb6_10/T/ipykernel_90728/2484296937.py:5: PydanticDeprecatedSince20: The `dict` method is deprecated; use `model_dump` instead. Deprecated in Pydantic V2.0 to be removed in V3.0. See Pydantic V2 Migration Guide at https://errors.pydantic.dev/2.10/migration/\n",
      "  json.dump([r.dict() for r in responces_to_save_OAI_base], f)\n"
     ]
    }
   ],
   "source": [
    "# Save the list of dictionaries to a JSON file\n",
    "output_file = \"OAI_output_base.json\"\n",
    "\n",
    "with open(output_file, \"w\") as f:\n",
    "    json.dump([r.dict() for r in responces_to_save_OAI_base], f)"
   ]
  },
  {
   "cell_type": "code",
   "execution_count": null,
   "metadata": {},
   "outputs": [],
   "source": [
    "pred = []\n",
    "for p in list(responces_to_save_OAI_base):\n",
    "    try:\n",
    "        responce_string = p.output[0].content[0].text\n",
    "    except:\n",
    "        responce_string = \"{'sql_query': ''}\"\n",
    "    response_dict = json.loads(responce_string)\n",
    "    pred.append('SELECT '+ response_dict['sql_query'].strip().rstrip(';'))\n"
   ]
  },
  {
   "cell_type": "code",
   "execution_count": 25,
   "metadata": {},
   "outputs": [],
   "source": [
    "output_file = 'dev_pred_OAI_base.txt'\n",
    "with open(output_file, \"w\") as f:\n",
    "    for line in pred:\n",
    "        f.write(line + '\\n')"
   ]
  },
  {
   "cell_type": "markdown",
   "metadata": {},
   "source": [
    "## OAI with full schema"
   ]
  },
  {
   "cell_type": "code",
   "execution_count": null,
   "metadata": {},
   "outputs": [
    {
     "name": "stderr",
     "output_type": "stream",
     "text": [
      "100%|██████████| 3/3 [00:04<00:00,  1.36s/it]\n"
     ]
    }
   ],
   "source": [
    "responces_to_save_OAI_wsc = []\n",
    "\n",
    "for s in tqdm(test_samples):\n",
    "    prompt = OAIPrompt.build_prompt(\n",
    "        sample=s, k=0, op_rule=op_rule, schema_info_option='all'\n",
    "    )\n",
    "    responce = get_sql_uni_llm(prompt, model=\"gpt-4o-2024-08-06\", dev_message=DEV_MESSAGE)\n",
    "    responces_to_save_OAI_wsc.append(responce)"
   ]
  },
  {
   "cell_type": "code",
   "execution_count": 27,
   "metadata": {},
   "outputs": [
    {
     "name": "stderr",
     "output_type": "stream",
     "text": [
      "/var/folders/p2/skh823fd5t5fcl9_fbmxvw24rb6_10/T/ipykernel_90728/728498247.py:5: PydanticDeprecatedSince20: The `dict` method is deprecated; use `model_dump` instead. Deprecated in Pydantic V2.0 to be removed in V3.0. See Pydantic V2 Migration Guide at https://errors.pydantic.dev/2.10/migration/\n",
      "  json.dump([r.dict() for r in responces_to_save_OAI_wsc], f)\n"
     ]
    }
   ],
   "source": [
    "# Save the list of dictionaries to a JSON file\n",
    "output_file = \"OAI_output_wsc.json\"\n",
    "\n",
    "with open(output_file, \"w\") as f:\n",
    "    json.dump([r.dict() for r in responces_to_save_OAI_wsc], f)"
   ]
  },
  {
   "cell_type": "code",
   "execution_count": null,
   "metadata": {},
   "outputs": [],
   "source": [
    "gold = []\n",
    "for p in list(responces_to_save_OAI_wsc):\n",
    "    try:\n",
    "        reesponce_string = p.output[0].content[0].text\n",
    "    except:\n",
    "        reesponce_string = \"{'sql_query': ''}\"\n",
    "    response_dict = json.loads(reesponce_string)\n",
    "    pred.append('SELECT '+ response_dict['sql_query'].strip().rstrip(';'))\n"
   ]
  },
  {
   "cell_type": "code",
   "execution_count": 29,
   "metadata": {},
   "outputs": [],
   "source": [
    "output_file = 'dev_pred_OAI_wsc.txt'\n",
    "with open(output_file, \"w\") as f:\n",
    "    for line in pred:\n",
    "        f.write(line + '\\n')"
   ]
  },
  {
   "cell_type": "markdown",
   "metadata": {},
   "source": [
    "## OAI with full schema and fk"
   ]
  },
  {
   "cell_type": "code",
   "execution_count": null,
   "metadata": {},
   "outputs": [
    {
     "name": "stderr",
     "output_type": "stream",
     "text": [
      "100%|██████████| 100/100 [01:44<00:00,  1.05s/it]\n"
     ]
    }
   ],
   "source": [
    "responces_to_save_OAI_wsc_fk = []\n",
    "\n",
    "for s in tqdm(test_samples):\n",
    "    prompt = OAIPrompt.build_prompt(\n",
    "        sample=s, k=0, op_rule=op_rule, schema_info_option='all', add_fk_info=True\n",
    "    )\n",
    "    responce = get_sql_uni_llm(prompt, model=\"gpt-4o-2024-08-06\", dev_message=DEV_MESSAGE)\n",
    "    responces_to_save_OAI_wsc_fk.append(responce)"
   ]
  },
  {
   "cell_type": "code",
   "execution_count": 16,
   "metadata": {},
   "outputs": [
    {
     "name": "stderr",
     "output_type": "stream",
     "text": [
      "/var/folders/p2/skh823fd5t5fcl9_fbmxvw24rb6_10/T/ipykernel_33592/3059441803.py:5: PydanticDeprecatedSince20: The `dict` method is deprecated; use `model_dump` instead. Deprecated in Pydantic V2.0 to be removed in V3.0. See Pydantic V2 Migration Guide at https://errors.pydantic.dev/2.10/migration/\n",
      "  json.dump([r.dict() for r in responces_to_save_OAI_wsc_fk], f)\n"
     ]
    }
   ],
   "source": [
    "# Save the list of dictionaries to a JSON file\n",
    "output_file = \"OAI_output_wsc_fk.json\"\n",
    "\n",
    "with open(output_file, \"w\") as f:\n",
    "    json.dump([r.dict() for r in responces_to_save_OAI_wsc_fk], f)"
   ]
  },
  {
   "cell_type": "code",
   "execution_count": null,
   "metadata": {},
   "outputs": [],
   "source": [
    "pred = []\n",
    "for p in list(responces_to_save_OAI_wsc_fk):\n",
    "    gold.append(s.query + '\\t' + s.db_id)\n",
    "    try:\n",
    "        reesponce_string = p.output[0].content[0].text\n",
    "    except:\n",
    "        reesponce_string = \"{'sql_query': ''}\"\n",
    "    response_dict = json.loads(reesponce_string)\n",
    "    pred.append('SELECT '+ response_dict['sql_query'].strip().rstrip(';'))\n"
   ]
  },
  {
   "cell_type": "code",
   "execution_count": 18,
   "metadata": {},
   "outputs": [],
   "source": [
    "output_file = 'dev_pred_OAI_wsc_fk.txt'\n",
    "with open(output_file, \"w\") as f:\n",
    "    for line in pred:\n",
    "        f.write(line + '\\n')"
   ]
  },
  {
   "cell_type": "markdown",
   "metadata": {},
   "source": [
    "## Reasoning base"
   ]
  },
  {
   "cell_type": "code",
   "execution_count": 5,
   "metadata": {},
   "outputs": [
    {
     "name": "stdout",
     "output_type": "stream",
     "text": [
      "You are an expert SQL translator specialized in converting natural language queries into correct and efficient SQL statements.\n",
      "For example:\n",
      "\n",
      "USER INPUT: How many heads of the departments are older than 56 ?\n",
      "OUTPUT: SELECT count(*) FROM head WHERE age  >  56\n"
     ]
    }
   ],
   "source": [
    "REASON_DEV_MESSAGE = \"You are an expert SQL translator specialized in converting natural language queries into correct and efficient SQL statements.\\n\" \\\n",
    "    \"For example:\\n\\n\" \\\n",
    "    \"USER INPUT: How many heads of the departments are older than 56 ?\\n\" \\\n",
    "    \"OUTPUT: SELECT count(*) FROM head WHERE age  >  56\"\n",
    "print(REASON_DEV_MESSAGE)"
   ]
  },
  {
   "cell_type": "code",
   "execution_count": 14,
   "metadata": {},
   "outputs": [
    {
     "name": "stderr",
     "output_type": "stream",
     "text": [
      "100%|██████████| 10/10 [00:41<00:00,  4.17s/it]\n"
     ]
    }
   ],
   "source": [
    "responces_to_save_Reason_base = []\n",
    "\n",
    "for s in tqdm(test_samples):\n",
    "    prompt = ReasoningPrompt.build_prompt(\n",
    "        sample=s, op_rule=op_rule, k=0\n",
    "    )\n",
    "    responce = get_sql_reason_llm(prompt, model=\"o3-mini-2025-01-31\", dev_message=DEV_MESSAGE)\n",
    "    responces_to_save_Reason_base.append(responce)"
   ]
  },
  {
   "cell_type": "code",
   "execution_count": 15,
   "metadata": {},
   "outputs": [
    {
     "name": "stderr",
     "output_type": "stream",
     "text": [
      "/var/folders/p2/skh823fd5t5fcl9_fbmxvw24rb6_10/T/ipykernel_36582/1912213914.py:5: PydanticDeprecatedSince20: The `dict` method is deprecated; use `model_dump` instead. Deprecated in Pydantic V2.0 to be removed in V3.0. See Pydantic V2 Migration Guide at https://errors.pydantic.dev/2.10/migration/\n",
      "  json.dump([r.dict() for r in responces_to_save_Reason_base], f)\n"
     ]
    }
   ],
   "source": [
    "# Save the list of dictionaries to a JSON file\n",
    "output_file = \"./pipeline_results/Reason_output_base.json\"\n",
    "\n",
    "with open(output_file, \"w\") as f:\n",
    "    json.dump([r.dict() for r in responces_to_save_Reason_base], f)"
   ]
  },
  {
   "cell_type": "code",
   "execution_count": 16,
   "metadata": {},
   "outputs": [],
   "source": [
    "pred = []\n",
    "for p in list(responces_to_save_Reason_base):\n",
    "    try:\n",
    "        reesponce_string = p.output[1].content[0].text.strip()\n",
    "        response_dict = json.loads(reesponce_string)\n",
    "    except:\n",
    "        reesponce_string = '{\"sql_query\": \"SELECT\"}'\n",
    "        response_dict = json.loads(reesponce_string)\n",
    "    pred.append(response_dict['sql_query'].strip().rstrip(';'))\n"
   ]
  },
  {
   "cell_type": "code",
   "execution_count": 17,
   "metadata": {},
   "outputs": [],
   "source": [
    "output_file = './pipeline_results/dev_pred_Reason_base.txt'\n",
    "with open(output_file, \"w\") as f:\n",
    "    for line in pred:\n",
    "        f.write(line + '\\n')"
   ]
  },
  {
   "cell_type": "markdown",
   "metadata": {},
   "source": [
    "## Reasoning with full schema"
   ]
  },
  {
   "cell_type": "code",
   "execution_count": 19,
   "metadata": {},
   "outputs": [
    {
     "name": "stderr",
     "output_type": "stream",
     "text": [
      "100%|██████████| 10/10 [00:30<00:00,  3.08s/it]\n"
     ]
    }
   ],
   "source": [
    "responces_to_save_Reason_wsc = []\n",
    "\n",
    "for s in tqdm(test_samples):\n",
    "    prompt = ReasoningPrompt.build_prompt(\n",
    "        sample=s, op_rule=op_rule, k=0, schema_info_option='all'\n",
    "    )\n",
    "    responce = get_sql_reason_llm(prompt, model=\"o3-mini-2025-01-31\", dev_message=DEV_MESSAGE)\n",
    "    responces_to_save_Reason_wsc.append(responce)"
   ]
  },
  {
   "cell_type": "code",
   "execution_count": 20,
   "metadata": {},
   "outputs": [
    {
     "name": "stderr",
     "output_type": "stream",
     "text": [
      "/var/folders/p2/skh823fd5t5fcl9_fbmxvw24rb6_10/T/ipykernel_36582/2569758144.py:5: PydanticDeprecatedSince20: The `dict` method is deprecated; use `model_dump` instead. Deprecated in Pydantic V2.0 to be removed in V3.0. See Pydantic V2 Migration Guide at https://errors.pydantic.dev/2.10/migration/\n",
      "  json.dump([r.dict() for r in responces_to_save_Reason_base], f)\n"
     ]
    }
   ],
   "source": [
    "# Save the list of dictionaries to a JSON file\n",
    "output_file = \"./pipeline_results/Reason_output_wsc.json\"\n",
    "\n",
    "with open(output_file, \"w\") as f:\n",
    "    json.dump([r.dict() for r in responces_to_save_Reason_base], f)"
   ]
  },
  {
   "cell_type": "code",
   "execution_count": 21,
   "metadata": {},
   "outputs": [],
   "source": [
    "pred = []\n",
    "for p in list(responces_to_save_Reason_wsc):\n",
    "    try:\n",
    "        reesponce_string = p.output[1].content[0].text.strip()\n",
    "        response_dict = json.loads(reesponce_string)\n",
    "    except:\n",
    "        reesponce_string = '{\"sql_query\": \"SELECT\"}'\n",
    "        response_dict = json.loads(reesponce_string)\n",
    "    pred.append(response_dict['sql_query'].strip().rstrip(';'))\n"
   ]
  },
  {
   "cell_type": "code",
   "execution_count": 22,
   "metadata": {},
   "outputs": [],
   "source": [
    "output_file = './pipeline_results/dev_pred_Reason_wsc.txt'\n",
    "with open(output_file, \"w\") as f:\n",
    "    for line in pred:\n",
    "        f.write(line + '\\n')"
   ]
  }
 ],
 "metadata": {
  "kernelspec": {
   "display_name": ".venv",
   "language": "python",
   "name": "python3"
  },
  "language_info": {
   "codemirror_mode": {
    "name": "ipython",
    "version": 3
   },
   "file_extension": ".py",
   "mimetype": "text/x-python",
   "name": "python",
   "nbconvert_exporter": "python",
   "pygments_lexer": "ipython3",
   "version": "3.10.4"
  }
 },
 "nbformat": 4,
 "nbformat_minor": 2
}
