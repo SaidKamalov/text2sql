{
 "cells": [
  {
   "cell_type": "markdown",
   "id": "514cf480",
   "metadata": {},
   "source": []
  },
  {
   "cell_type": "code",
   "execution_count": 2,
   "id": "192e8358",
   "metadata": {},
   "outputs": [
    {
     "name": "stderr",
     "output_type": "stream",
     "text": [
      "/Users/saidka/inno/text2SQL/text2sql/.venv/lib/python3.10/site-packages/tqdm/auto.py:21: TqdmWarning: IProgress not found. Please update jupyter and ipywidgets. See https://ipywidgets.readthedocs.io/en/stable/user_install.html\n",
      "  from .autonotebook import tqdm as notebook_tqdm\n"
     ]
    }
   ],
   "source": [
    "from datasets import SpiderDataset\n",
    "from prompt.prompt_factory import PromptFactory\n",
    "from enums import PromptRepresentationType, ShemaInfoOptions, ExampleSelectionType\n",
    "import json\n"
   ]
  },
  {
   "cell_type": "markdown",
   "id": "d8a7ac92",
   "metadata": {},
   "source": [
    "## Load Data"
   ]
  },
  {
   "cell_type": "code",
   "execution_count": 2,
   "id": "5aae7ddd",
   "metadata": {},
   "outputs": [
    {
     "name": "stderr",
     "output_type": "stream",
     "text": [
      "Processing samples: 1034it [00:00, 274054.37it/s]\n"
     ]
    }
   ],
   "source": [
    "test_dataset = SpiderDataset(\n",
    "        dataset_dir=\"spider_data\",\n",
    "        file_name=\"dev.json\",\n",
    "        path_to_gold=\"dev_gold.sql\",\n",
    "        table_file_path=\"tables.json\",\n",
    "    )"
   ]
  },
  {
   "cell_type": "code",
   "execution_count": 3,
   "id": "ee16e338",
   "metadata": {},
   "outputs": [
    {
     "name": "stderr",
     "output_type": "stream",
     "text": [
      "Calculating question embeddings: 100%|██████████| 1034/1034 [00:11<00:00, 93.71it/s] \n"
     ]
    }
   ],
   "source": [
    "test_dataset.calculate_question_embeddings(\"all-MiniLM-L6-v2\")"
   ]
  },
  {
   "cell_type": "code",
   "execution_count": 5,
   "id": "35b79bb3",
   "metadata": {},
   "outputs": [],
   "source": [
    "test_samples = test_dataset.samples"
   ]
  },
  {
   "cell_type": "code",
   "execution_count": 6,
   "id": "c59595ea",
   "metadata": {},
   "outputs": [
    {
     "name": "stderr",
     "output_type": "stream",
     "text": [
      "Processing samples: 7000it [00:00, 550619.41it/s]\n"
     ]
    }
   ],
   "source": [
    "train_dataset = SpiderDataset(\n",
    "        dataset_dir=\"spider_data\",\n",
    "        file_name=\"train_spider.json\",\n",
    "        path_to_gold=\"train_gold.sql\",\n",
    "        table_file_path=\"tables.json\",\n",
    "        \n",
    "    )"
   ]
  },
  {
   "cell_type": "code",
   "execution_count": 7,
   "id": "3d0cafc9",
   "metadata": {},
   "outputs": [
    {
     "name": "stderr",
     "output_type": "stream",
     "text": [
      "Calculating question embeddings: 100%|██████████| 7000/7000 [01:03<00:00, 109.96it/s]\n"
     ]
    }
   ],
   "source": [
    "train_dataset.calculate_question_embeddings(\"all-MiniLM-L6-v2\")"
   ]
  },
  {
   "cell_type": "code",
   "execution_count": 8,
   "id": "8ef7c98a",
   "metadata": {},
   "outputs": [],
   "source": [
    "samples_for_examples = train_dataset.samples"
   ]
  },
  {
   "cell_type": "markdown",
   "id": "76715c21",
   "metadata": {},
   "source": [
    "## Prompt params"
   ]
  },
  {
   "cell_type": "code",
   "execution_count": 9,
   "id": "a4fb5029",
   "metadata": {},
   "outputs": [],
   "source": [
    "OP_RULE='You must minimize execution time while ensuring correctness.'\n",
    "ks = [3,5]\n",
    "PROMPT_REPRESENTATIONS = [PromptRepresentationType.OAI, PromptRepresentationType.REASONING]\n",
    "SCHEMA_INFO_OPTION = [ShemaInfoOptions.FULL_SCHEMA]\n",
    "EXAMPLE_SELECTION_TYPES = [ExampleSelectionType.RAND_HARDNESS, ExampleSelectionType.COSINE_SIM_HARDNESS]\n"
   ]
  },
  {
   "cell_type": "code",
   "execution_count": 3,
   "id": "1a7572fb",
   "metadata": {},
   "outputs": [],
   "source": [
    "OUTPUT_FILE = \"./pipeline_results/prompts.json\""
   ]
  },
  {
   "cell_type": "code",
   "execution_count": null,
   "id": "7df2bdbd",
   "metadata": {},
   "outputs": [],
   "source": [
    "\n",
    "PROMPTS_LIST = []"
   ]
  },
  {
   "cell_type": "markdown",
   "id": "7a8122e7",
   "metadata": {},
   "source": [
    "## BASE"
   ]
  },
  {
   "cell_type": "code",
   "execution_count": 11,
   "id": "29542216",
   "metadata": {},
   "outputs": [
    {
     "name": "stdout",
     "output_type": "stream",
     "text": [
      "prompt_repr: PromptRepresentationType.OAI, schema_info: ShemaInfoOptions.FULL_SCHEMA\n"
     ]
    },
    {
     "name": "stderr",
     "output_type": "stream",
     "text": [
      "Building prompts: 100%|██████████| 1034/1034 [00:00<00:00, 162680.91prompt/s]\n"
     ]
    },
    {
     "name": "stdout",
     "output_type": "stream",
     "text": [
      "prompt_repr: PromptRepresentationType.REASONING, schema_info: ShemaInfoOptions.FULL_SCHEMA\n"
     ]
    },
    {
     "name": "stderr",
     "output_type": "stream",
     "text": [
      "Building prompts: 100%|██████████| 1034/1034 [00:00<00:00, 180734.72prompt/s]\n"
     ]
    }
   ],
   "source": [
    "for prompt_repr in PROMPT_REPRESENTATIONS:\n",
    "    for schema_info in SCHEMA_INFO_OPTION:\n",
    "        print(f'prompt_repr: {prompt_repr}, schema_info: {schema_info}')\n",
    "        prompts = PromptFactory.build_prompts(\n",
    "            prompt_type = prompt_repr,\n",
    "            samples=test_samples,\n",
    "            schema_info_option=schema_info,\n",
    "        )\n",
    "        res = {\n",
    "            prompt_repr.value+ '$' + schema_info.value: prompts\n",
    "        }\n",
    "        PROMPTS_LIST.append(res)"
   ]
  },
  {
   "cell_type": "markdown",
   "id": "5b5571d9",
   "metadata": {},
   "source": [
    "## BASE + META INFO"
   ]
  },
  {
   "cell_type": "code",
   "execution_count": 12,
   "id": "4b592c53",
   "metadata": {},
   "outputs": [
    {
     "name": "stdout",
     "output_type": "stream",
     "text": [
      "prompt_repr: PromptRepresentationType.OAI, schema_info: ShemaInfoOptions.FULL_SCHEMA + FK\n"
     ]
    },
    {
     "name": "stderr",
     "output_type": "stream",
     "text": [
      "Building prompts: 100%|██████████| 1034/1034 [00:00<00:00, 161337.39prompt/s]\n"
     ]
    },
    {
     "name": "stdout",
     "output_type": "stream",
     "text": [
      "prompt_repr: PromptRepresentationType.REASONING, schema_info: ShemaInfoOptions.FULL_SCHEMA + FK\n"
     ]
    },
    {
     "name": "stderr",
     "output_type": "stream",
     "text": [
      "Building prompts: 100%|██████████| 1034/1034 [00:00<00:00, 136393.70prompt/s]\n"
     ]
    }
   ],
   "source": [
    "for prompt_repr in PROMPT_REPRESENTATIONS:\n",
    "    for schema_info in SCHEMA_INFO_OPTION:\n",
    "        print(f'prompt_repr: {prompt_repr}, schema_info: {schema_info} + FK')\n",
    "        prompts = PromptFactory.build_prompts(\n",
    "            prompt_type = prompt_repr,\n",
    "            samples=test_samples,\n",
    "            schema_info_option=schema_info,\n",
    "            add_fk_info=True,\n",
    "        )\n",
    "        res = {\n",
    "            prompt_repr.value+ '$' + schema_info.value + '$' + 'fk': prompts\n",
    "        }\n",
    "        PROMPTS_LIST.append(res)"
   ]
  },
  {
   "cell_type": "markdown",
   "id": "787414f1",
   "metadata": {},
   "source": [
    "## BASE + META INFO + EXAMPLES"
   ]
  },
  {
   "cell_type": "code",
   "execution_count": 13,
   "id": "f2c49f9d",
   "metadata": {},
   "outputs": [
    {
     "name": "stdout",
     "output_type": "stream",
     "text": [
      "prompt_repr: PromptRepresentationType.OAI, schema_info: ShemaInfoOptions.FULL_SCHEMA, example_selection_type: ExampleSelectionType.RAND_HARDNESS, k: 3\n"
     ]
    },
    {
     "name": "stderr",
     "output_type": "stream",
     "text": [
      "Building prompts: 100%|██████████| 1034/1034 [00:34<00:00, 30.03prompt/s]\n"
     ]
    },
    {
     "name": "stdout",
     "output_type": "stream",
     "text": [
      "prompt_repr: PromptRepresentationType.OAI, schema_info: ShemaInfoOptions.FULL_SCHEMA, example_selection_type: ExampleSelectionType.RAND_HARDNESS, k: 5\n"
     ]
    },
    {
     "name": "stderr",
     "output_type": "stream",
     "text": [
      "Building prompts: 100%|██████████| 1034/1034 [00:33<00:00, 30.80prompt/s]\n"
     ]
    },
    {
     "name": "stdout",
     "output_type": "stream",
     "text": [
      "prompt_repr: PromptRepresentationType.OAI, schema_info: ShemaInfoOptions.FULL_SCHEMA, example_selection_type: ExampleSelectionType.COSINE_SIM_HARDNESS, k: 3\n"
     ]
    },
    {
     "name": "stderr",
     "output_type": "stream",
     "text": [
      "Building prompts: 100%|██████████| 1034/1034 [00:36<00:00, 28.41prompt/s]\n"
     ]
    },
    {
     "name": "stdout",
     "output_type": "stream",
     "text": [
      "prompt_repr: PromptRepresentationType.OAI, schema_info: ShemaInfoOptions.FULL_SCHEMA, example_selection_type: ExampleSelectionType.COSINE_SIM_HARDNESS, k: 5\n"
     ]
    },
    {
     "name": "stderr",
     "output_type": "stream",
     "text": [
      "Building prompts: 100%|██████████| 1034/1034 [00:36<00:00, 28.66prompt/s]\n"
     ]
    },
    {
     "name": "stdout",
     "output_type": "stream",
     "text": [
      "prompt_repr: PromptRepresentationType.REASONING, schema_info: ShemaInfoOptions.FULL_SCHEMA, example_selection_type: ExampleSelectionType.RAND_HARDNESS, k: 3\n"
     ]
    },
    {
     "name": "stderr",
     "output_type": "stream",
     "text": [
      "Building prompts: 100%|██████████| 1034/1034 [00:34<00:00, 30.29prompt/s]\n"
     ]
    },
    {
     "name": "stdout",
     "output_type": "stream",
     "text": [
      "prompt_repr: PromptRepresentationType.REASONING, schema_info: ShemaInfoOptions.FULL_SCHEMA, example_selection_type: ExampleSelectionType.RAND_HARDNESS, k: 5\n"
     ]
    },
    {
     "name": "stderr",
     "output_type": "stream",
     "text": [
      "Building prompts: 100%|██████████| 1034/1034 [00:34<00:00, 30.34prompt/s]\n"
     ]
    },
    {
     "name": "stdout",
     "output_type": "stream",
     "text": [
      "prompt_repr: PromptRepresentationType.REASONING, schema_info: ShemaInfoOptions.FULL_SCHEMA, example_selection_type: ExampleSelectionType.COSINE_SIM_HARDNESS, k: 3\n"
     ]
    },
    {
     "name": "stderr",
     "output_type": "stream",
     "text": [
      "Building prompts: 100%|██████████| 1034/1034 [00:36<00:00, 28.18prompt/s]\n"
     ]
    },
    {
     "name": "stdout",
     "output_type": "stream",
     "text": [
      "prompt_repr: PromptRepresentationType.REASONING, schema_info: ShemaInfoOptions.FULL_SCHEMA, example_selection_type: ExampleSelectionType.COSINE_SIM_HARDNESS, k: 5\n"
     ]
    },
    {
     "name": "stderr",
     "output_type": "stream",
     "text": [
      "Building prompts: 100%|██████████| 1034/1034 [00:36<00:00, 28.10prompt/s]\n"
     ]
    }
   ],
   "source": [
    "for prompt_repr in PROMPT_REPRESENTATIONS:\n",
    "    for schema_info in SCHEMA_INFO_OPTION:\n",
    "        for example_selection_type in EXAMPLE_SELECTION_TYPES:\n",
    "            for k in ks:\n",
    "                print(f'prompt_repr: {prompt_repr}, schema_info: {schema_info}, example_selection_type: {example_selection_type}, k: {k}')\n",
    "                prompts = PromptFactory.build_prompts(\n",
    "                    prompt_type = prompt_repr,\n",
    "                    samples=test_samples,\n",
    "                    examples=samples_for_examples,\n",
    "                    example_selection_type=example_selection_type,\n",
    "                    k=k,\n",
    "                    schema_info_option=schema_info,\n",
    "                    add_fk_info=True,\n",
    "                )\n",
    "                res = {\n",
    "                    prompt_repr.value+ '$' + schema_info.value + '$' + 'fk' + '$' + example_selection_type.value + '$' + str(k): prompts\n",
    "                }\n",
    "                PROMPTS_LIST.append(res)"
   ]
  },
  {
   "cell_type": "markdown",
   "id": "47f91267",
   "metadata": {},
   "source": [
    "---"
   ]
  },
  {
   "cell_type": "code",
   "execution_count": 14,
   "id": "dcf12e2f",
   "metadata": {},
   "outputs": [],
   "source": [
    "with open(OUTPUT_FILE, \"w\") as f:\n",
    "    json.dump(PROMPTS_LIST, f, indent=2)"
   ]
  },
  {
   "cell_type": "code",
   "execution_count": 14,
   "id": "eb4afb14",
   "metadata": {},
   "outputs": [],
   "source": [
    "with open('./pipeline_results/dev_gold.txt', 'w') as f:\n",
    "    for t in test_samples:\n",
    "        f.write(t.query_gold + '\\t' + t.db_id +'\\n')"
   ]
  },
  {
   "cell_type": "markdown",
   "id": "53ed1321",
   "metadata": {},
   "source": [
    "## Check prompts"
   ]
  },
  {
   "cell_type": "code",
   "execution_count": 4,
   "id": "abe2ccb9",
   "metadata": {},
   "outputs": [
    {
     "name": "stdout",
     "output_type": "stream",
     "text": [
      "Key: openai$full_schema\n",
      "Key: reasoning$full_schema\n",
      "Key: openai$full_schema$fk\n",
      "Key: reasoning$full_schema$fk\n",
      "Key: openai$full_schema$fk$random_hardness$3\n",
      "Key: openai$full_schema$fk$random_hardness$5\n",
      "Key: openai$full_schema$fk$cosine_sim_hardness$3\n",
      "Key: openai$full_schema$fk$cosine_sim_hardness$5\n",
      "Key: reasoning$full_schema$fk$random_hardness$3\n",
      "Key: reasoning$full_schema$fk$random_hardness$5\n",
      "Key: reasoning$full_schema$fk$cosine_sim_hardness$3\n",
      "Key: reasoning$full_schema$fk$cosine_sim_hardness$5\n"
     ]
    }
   ],
   "source": [
    "with open(OUTPUT_FILE, 'r') as f:\n",
    "    list_of_dicts = json.load(f)\n",
    "\n",
    "prompt_merged_dict = {}\n",
    "for d in list_of_dicts:\n",
    "    prompt_merged_dict.update(d)\n",
    "\n",
    "for k in prompt_merged_dict.keys():\n",
    "    print(f'Key: {k}')"
   ]
  },
  {
   "cell_type": "code",
   "execution_count": 5,
   "id": "03aea627",
   "metadata": {},
   "outputs": [
    {
     "name": "stdout",
     "output_type": "stream",
     "text": [
      "### Complete sqlite SQL query only and with no explanation.\n",
      "### SQLite SQL tables, with their properties:\n",
      "#\n",
      "# breeds: (breed_code, breed_name)\n",
      "# charges: (charge_id, charge_type, charge_amount)\n",
      "# sizes: (size_code, size_description)\n",
      "# treatment_types: (treatment_type_code, treatment_type_description)\n",
      "# owners: (owner_id, first_name, last_name, street, city, state, zip_code, email_address, home_phone, cell_number)\n",
      "# dogs: (dog_id, owner_id, abandoned_yn, breed_code, size_code, name, age, date_of_birth, gender, weight, date_arrived, date_adopted, date_departed)\n",
      "# professionals: (professional_id, role_code, first_name, street, city, state, zip_code, last_name, email_address, home_phone, cell_number)\n",
      "# treatments: (treatment_id, dog_id, professional_id, treatment_type_code, date_of_treatment, cost_of_treatment)\n",
      "#\n",
      "### Question: List the last name of the owner owning the youngest dog.\n",
      "### Answer: SELECT\n"
     ]
    }
   ],
   "source": [
    "print(prompt_merged_dict['openai$full_schema'][960])"
   ]
  },
  {
   "cell_type": "code",
   "execution_count": 6,
   "id": "1e19c408",
   "metadata": {},
   "outputs": [
    {
     "name": "stdout",
     "output_type": "stream",
     "text": [
      "## Goal:\n",
      "Your task is to translate any given natural language question into a valid SQL query written in the SQLite dialect.\n",
      "\n",
      "## Return Format:\n",
      "Write SQLite query only and with no explanation or comments.\n",
      "Return only SQLite query in a format: SELECT ...\n",
      "\n",
      "## Warnings:\n",
      "**Be careful and double-check:**\n",
      "1. The correctness of SQLite syntax and order of operations and closes.\n",
      "2. The choice of columns and tables when dealing with ambiguity of natural language\n",
      "3. The correctness of the join conditions if it is used.\n",
      "\n",
      "## Context:\n",
      "**SQLite SQL tables, with their properties:**\n",
      "\n",
      "breeds: (breed_code, breed_name)\n",
      "charges: (charge_id, charge_type, charge_amount)\n",
      "sizes: (size_code, size_description)\n",
      "treatment_types: (treatment_type_code, treatment_type_description)\n",
      "owners: (owner_id, first_name, last_name, street, city, state, zip_code, email_address, home_phone, cell_number)\n",
      "dogs: (dog_id, owner_id, abandoned_yn, breed_code, size_code, name, age, date_of_birth, gender, weight, date_arrived, date_adopted, date_departed)\n",
      "professionals: (professional_id, role_code, first_name, street, city, state, zip_code, last_name, email_address, home_phone, cell_number)\n",
      "treatments: (treatment_id, dog_id, professional_id, treatment_type_code, date_of_treatment, cost_of_treatment)\n",
      "\n",
      "\n",
      "**Question:** List the last name of the owner owning the youngest dog.\n",
      "**Answer:** SELECT\n"
     ]
    }
   ],
   "source": [
    "print(prompt_merged_dict['reasoning$full_schema'][960])"
   ]
  },
  {
   "cell_type": "code",
   "execution_count": 6,
   "id": "b087f863",
   "metadata": {},
   "outputs": [
    {
     "name": "stdout",
     "output_type": "stream",
     "text": [
      "### Complete sqlite SQL query only and with no explanation.\n",
      "### SQLite SQL tables, with their properties:\n",
      "#\n",
      "# breeds: (breed_code, breed_name)\n",
      "# charges: (charge_id, charge_type, charge_amount)\n",
      "# sizes: (size_code, size_description)\n",
      "# treatment_types: (treatment_type_code, treatment_type_description)\n",
      "# owners: (owner_id, first_name, last_name, street, city, state, zip_code, email_address, home_phone, cell_number)\n",
      "# dogs: (dog_id, owner_id, abandoned_yn, breed_code, size_code, name, age, date_of_birth, gender, weight, date_arrived, date_adopted, date_departed)\n",
      "# professionals: (professional_id, role_code, first_name, street, city, state, zip_code, last_name, email_address, home_phone, cell_number)\n",
      "# treatments: (treatment_id, dog_id, professional_id, treatment_type_code, date_of_treatment, cost_of_treatment)\n",
      "#\n",
      "### Foreign Key References:\n",
      "#\n",
      "# dogs.owner_id references owners.owner_id\n",
      "# dogs.breed_code references breeds.breed_code\n",
      "# dogs.size_code references sizes.size_code\n",
      "# treatments.dog_id references dogs.dog_id\n",
      "# treatments.professional_id references professionals.professional_id\n",
      "# treatments.treatment_type_code references treatment_types.treatment_type_code\n",
      "#\n",
      "### Question: List the last name of the owner owning the youngest dog.\n",
      "### Answer: SELECT\n"
     ]
    }
   ],
   "source": [
    "print(prompt_merged_dict['openai$full_schema$fk'][960])"
   ]
  },
  {
   "cell_type": "code",
   "execution_count": 7,
   "id": "32916c56",
   "metadata": {},
   "outputs": [
    {
     "name": "stdout",
     "output_type": "stream",
     "text": [
      "## Goal:\n",
      "Your task is to translate any given natural language question into a valid SQL query written in the SQLite dialect.\n",
      "\n",
      "## Return Format:\n",
      "Write SQLite query only and with no explanation or comments.\n",
      "Return only SQLite query in a format: SELECT ...\n",
      "\n",
      "## Warnings:\n",
      "**Be careful and double-check:**\n",
      "1. The correctness of SQLite syntax and order of operations and closes.\n",
      "2. The choice of columns and tables when dealing with ambiguity of natural language\n",
      "3. The correctness of the join conditions if it is used.\n",
      "\n",
      "## Context:\n",
      "**SQLite SQL tables, with their properties:**\n",
      "\n",
      "breeds: (breed_code, breed_name)\n",
      "charges: (charge_id, charge_type, charge_amount)\n",
      "sizes: (size_code, size_description)\n",
      "treatment_types: (treatment_type_code, treatment_type_description)\n",
      "owners: (owner_id, first_name, last_name, street, city, state, zip_code, email_address, home_phone, cell_number)\n",
      "dogs: (dog_id, owner_id, abandoned_yn, breed_code, size_code, name, age, date_of_birth, gender, weight, date_arrived, date_adopted, date_departed)\n",
      "professionals: (professional_id, role_code, first_name, street, city, state, zip_code, last_name, email_address, home_phone, cell_number)\n",
      "treatments: (treatment_id, dog_id, professional_id, treatment_type_code, date_of_treatment, cost_of_treatment)\n",
      "\n",
      "**Foreign Key References:**\n",
      "\n",
      "dogs.owner_id references owners.owner_id\n",
      "dogs.breed_code references breeds.breed_code\n",
      "dogs.size_code references sizes.size_code\n",
      "treatments.dog_id references dogs.dog_id\n",
      "treatments.professional_id references professionals.professional_id\n",
      "treatments.treatment_type_code references treatment_types.treatment_type_code\n",
      "\n",
      "\n",
      "**Question:** List the last name of the owner owning the youngest dog.\n",
      "**Answer:** SELECT\n"
     ]
    }
   ],
   "source": [
    "print(prompt_merged_dict['reasoning$full_schema$fk'][960])"
   ]
  },
  {
   "cell_type": "code",
   "execution_count": 8,
   "id": "931e4fd1",
   "metadata": {},
   "outputs": [
    {
     "name": "stdout",
     "output_type": "stream",
     "text": [
      "### Complete sqlite SQL query only and with no explanation.\n",
      "### SQLite SQL tables, with their properties:\n",
      "#\n",
      "# breeds: (breed_code, breed_name)\n",
      "# charges: (charge_id, charge_type, charge_amount)\n",
      "# sizes: (size_code, size_description)\n",
      "# treatment_types: (treatment_type_code, treatment_type_description)\n",
      "# owners: (owner_id, first_name, last_name, street, city, state, zip_code, email_address, home_phone, cell_number)\n",
      "# dogs: (dog_id, owner_id, abandoned_yn, breed_code, size_code, name, age, date_of_birth, gender, weight, date_arrived, date_adopted, date_departed)\n",
      "# professionals: (professional_id, role_code, first_name, street, city, state, zip_code, last_name, email_address, home_phone, cell_number)\n",
      "# treatments: (treatment_id, dog_id, professional_id, treatment_type_code, date_of_treatment, cost_of_treatment)\n",
      "#\n",
      "### Foreign Key References:\n",
      "#\n",
      "# dogs.owner_id references owners.owner_id\n",
      "# dogs.breed_code references breeds.breed_code\n",
      "# dogs.size_code references sizes.size_code\n",
      "# treatments.dog_id references dogs.dog_id\n",
      "# treatments.professional_id references professionals.professional_id\n",
      "# treatments.treatment_type_code references treatment_types.treatment_type_code\n",
      "#\n",
      "### Examples:\n",
      "# Question: What is the name of the youngest male?\n",
      "# Answer: SELECT name FROM Person WHERE gender  =  'male' AND age  =  (SELECT min(age) FROM person WHERE gender  =  'male' )\n",
      "#\n",
      "# Question: Who is the youngest male?\n",
      "# Answer: SELECT name FROM Person WHERE gender  =  'male' AND age  =  (SELECT min(age) FROM person WHERE gender  =  'male' )\n",
      "#\n",
      "# Question: Which person whose friends have the oldest average age?\n",
      "# Answer: SELECT T2.name ,  avg(T1.age) FROM Person AS T1 JOIN PersonFriend AS T2 ON T1.name  =  T2.friend GROUP BY T2.name ORDER BY avg(T1.age) DESC LIMIT 1\n",
      "#\n",
      "### Question: List the last name of the owner owning the youngest dog.\n",
      "### Answer: SELECT\n"
     ]
    }
   ],
   "source": [
    "print(prompt_merged_dict['openai$full_schema$fk$cosine_sim_hardness$3'][960])"
   ]
  },
  {
   "cell_type": "code",
   "execution_count": 9,
   "id": "e15b37c2",
   "metadata": {},
   "outputs": [
    {
     "name": "stdout",
     "output_type": "stream",
     "text": [
      "## Goal:\n",
      "Your task is to translate any given natural language question into a valid SQL query written in the SQLite dialect.\n",
      "\n",
      "## Return Format:\n",
      "Write SQLite query only and with no explanation or comments.\n",
      "Return only SQLite query in a format: SELECT ...\n",
      "\n",
      "## Warnings:\n",
      "**Be careful and double-check:**\n",
      "1. The correctness of SQLite syntax and order of operations and closes.\n",
      "2. The choice of columns and tables when dealing with ambiguity of natural language\n",
      "3. The correctness of the join conditions if it is used.\n",
      "\n",
      "## Context:\n",
      "**SQLite SQL tables, with their properties:**\n",
      "\n",
      "breeds: (breed_code, breed_name)\n",
      "charges: (charge_id, charge_type, charge_amount)\n",
      "sizes: (size_code, size_description)\n",
      "treatment_types: (treatment_type_code, treatment_type_description)\n",
      "owners: (owner_id, first_name, last_name, street, city, state, zip_code, email_address, home_phone, cell_number)\n",
      "dogs: (dog_id, owner_id, abandoned_yn, breed_code, size_code, name, age, date_of_birth, gender, weight, date_arrived, date_adopted, date_departed)\n",
      "professionals: (professional_id, role_code, first_name, street, city, state, zip_code, last_name, email_address, home_phone, cell_number)\n",
      "treatments: (treatment_id, dog_id, professional_id, treatment_type_code, date_of_treatment, cost_of_treatment)\n",
      "\n",
      "**Foreign Key References:**\n",
      "\n",
      "dogs.owner_id references owners.owner_id\n",
      "dogs.breed_code references breeds.breed_code\n",
      "dogs.size_code references sizes.size_code\n",
      "treatments.dog_id references dogs.dog_id\n",
      "treatments.professional_id references professionals.professional_id\n",
      "treatments.treatment_type_code references treatment_types.treatment_type_code\n",
      "\n",
      "## Examples:\n",
      "**Question:** What is the name of the youngest male?\n",
      "**Answer:** SELECT name FROM Person WHERE gender  =  'male' AND age  =  (SELECT min(age) FROM person WHERE gender  =  'male' )\n",
      "\n",
      "**Question:** Who is the youngest male?\n",
      "**Answer:** SELECT name FROM Person WHERE gender  =  'male' AND age  =  (SELECT min(age) FROM person WHERE gender  =  'male' )\n",
      "\n",
      "**Question:** Which person whose friends have the oldest average age?\n",
      "**Answer:** SELECT T2.name ,  avg(T1.age) FROM Person AS T1 JOIN PersonFriend AS T2 ON T1.name  =  T2.friend GROUP BY T2.name ORDER BY avg(T1.age) DESC LIMIT 1\n",
      "\n",
      "\n",
      "**Question:** List the last name of the owner owning the youngest dog.\n",
      "**Answer:** SELECT\n"
     ]
    }
   ],
   "source": [
    "print(prompt_merged_dict['reasoning$full_schema$fk$cosine_sim_hardness$3'][960])"
   ]
  }
 ],
 "metadata": {
  "kernelspec": {
   "display_name": ".venv",
   "language": "python",
   "name": "python3"
  },
  "language_info": {
   "codemirror_mode": {
    "name": "ipython",
    "version": 3
   },
   "file_extension": ".py",
   "mimetype": "text/x-python",
   "name": "python",
   "nbconvert_exporter": "python",
   "pygments_lexer": "ipython3",
   "version": "3.10.4"
  }
 },
 "nbformat": 4,
 "nbformat_minor": 5
}
