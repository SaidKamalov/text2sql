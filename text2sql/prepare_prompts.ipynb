{
 "cells": [
  {
   "cell_type": "code",
   "execution_count": 1,
   "id": "192e8358",
   "metadata": {},
   "outputs": [
    {
     "name": "stderr",
     "output_type": "stream",
     "text": [
      "/Users/saidka/inno/text2SQL/text2sql/.venv/lib/python3.10/site-packages/tqdm/auto.py:21: TqdmWarning: IProgress not found. Please update jupyter and ipywidgets. See https://ipywidgets.readthedocs.io/en/stable/user_install.html\n",
      "  from .autonotebook import tqdm as notebook_tqdm\n"
     ]
    }
   ],
   "source": [
    "from datasets import SpiderDataset\n",
    "from prompt.prompt_factory import PromptFactory\n",
    "from enums import PromptRepresentationType, ShemaInfoOptions, ExampleSelectionType\n",
    "import json\n"
   ]
  },
  {
   "cell_type": "markdown",
   "id": "d8a7ac92",
   "metadata": {},
   "source": [
    "## Load Data"
   ]
  },
  {
   "cell_type": "code",
   "execution_count": 2,
   "id": "5aae7ddd",
   "metadata": {},
   "outputs": [
    {
     "name": "stderr",
     "output_type": "stream",
     "text": [
      "Processing samples: 1034it [00:00, 269775.46it/s]\n"
     ]
    }
   ],
   "source": [
    "test_dataset = SpiderDataset(\n",
    "        dataset_dir=\"spider_data\",\n",
    "        file_name=\"dev.json\",\n",
    "        path_to_gold=\"dev_gold.sql\",\n",
    "        table_file_path=\"tables.json\",\n",
    "    )"
   ]
  },
  {
   "cell_type": "code",
   "execution_count": 3,
   "id": "ee16e338",
   "metadata": {},
   "outputs": [
    {
     "name": "stderr",
     "output_type": "stream",
     "text": [
      "Calculating question embeddings: 100%|██████████| 1034/1034 [00:10<00:00, 94.35it/s] \n"
     ]
    }
   ],
   "source": [
    "test_dataset.calculate_question_embeddings(\"all-MiniLM-L6-v2\")"
   ]
  },
  {
   "cell_type": "code",
   "execution_count": 4,
   "id": "35b79bb3",
   "metadata": {},
   "outputs": [],
   "source": [
    "test_samples = test_dataset.samples"
   ]
  },
  {
   "cell_type": "code",
   "execution_count": 5,
   "id": "c59595ea",
   "metadata": {},
   "outputs": [
    {
     "name": "stderr",
     "output_type": "stream",
     "text": [
      "Processing samples: 7000it [00:00, 545291.46it/s]\n"
     ]
    }
   ],
   "source": [
    "train_dataset = SpiderDataset(\n",
    "        dataset_dir=\"spider_data\",\n",
    "        file_name=\"train_spider.json\",\n",
    "        path_to_gold=\"train_gold.sql\",\n",
    "        table_file_path=\"tables.json\",\n",
    "        \n",
    "    )"
   ]
  },
  {
   "cell_type": "code",
   "execution_count": 6,
   "id": "3d0cafc9",
   "metadata": {},
   "outputs": [
    {
     "name": "stderr",
     "output_type": "stream",
     "text": [
      "Calculating question embeddings: 100%|██████████| 7000/7000 [00:59<00:00, 117.41it/s]\n"
     ]
    }
   ],
   "source": [
    "train_dataset.calculate_question_embeddings(\"all-MiniLM-L6-v2\")"
   ]
  },
  {
   "cell_type": "code",
   "execution_count": 7,
   "id": "8ef7c98a",
   "metadata": {},
   "outputs": [],
   "source": [
    "samples_for_examples = train_dataset.samples"
   ]
  },
  {
   "cell_type": "markdown",
   "id": "76715c21",
   "metadata": {},
   "source": [
    "## Prompt params"
   ]
  },
  {
   "cell_type": "code",
   "execution_count": 8,
   "id": "a4fb5029",
   "metadata": {},
   "outputs": [],
   "source": [
    "OP_RULE='You must minimize execution time while ensuring correctness.'\n",
    "ks = [3,5]\n",
    "PROMPT_REPRESENTATIONS = [PromptRepresentationType.OAI, PromptRepresentationType.REASONING]\n",
    "SCHEMA_INFO_OPTION = [ShemaInfoOptions.FULL_SCHEMA]\n",
    "EXAMPLE_SELECTION_TYPES = [ExampleSelectionType.RAND_HARDNESS, ExampleSelectionType.COSINE_SIM_HARDNESS]\n"
   ]
  },
  {
   "cell_type": "code",
   "execution_count": 9,
   "id": "7df2bdbd",
   "metadata": {},
   "outputs": [],
   "source": [
    "OUTPUT_FILE = \"./pipeline_results/prompts.json\"\n",
    "PROMPTS_LIST = []"
   ]
  },
  {
   "cell_type": "markdown",
   "id": "7a8122e7",
   "metadata": {},
   "source": [
    "## BASE"
   ]
  },
  {
   "cell_type": "code",
   "execution_count": 10,
   "id": "29542216",
   "metadata": {},
   "outputs": [
    {
     "name": "stdout",
     "output_type": "stream",
     "text": [
      "prompt_repr: PromptRepresentationType.OAI, schema_info: ShemaInfoOptions.FULL_SCHEMA\n"
     ]
    },
    {
     "name": "stderr",
     "output_type": "stream",
     "text": [
      "Building prompts: 100%|██████████| 1034/1034 [00:00<00:00, 256015.96prompt/s]\n"
     ]
    },
    {
     "name": "stdout",
     "output_type": "stream",
     "text": [
      "prompt_repr: PromptRepresentationType.REASONING, schema_info: ShemaInfoOptions.FULL_SCHEMA\n"
     ]
    },
    {
     "name": "stderr",
     "output_type": "stream",
     "text": [
      "Building prompts: 100%|██████████| 1034/1034 [00:00<00:00, 227504.08prompt/s]\n"
     ]
    }
   ],
   "source": [
    "for prompt_repr in PROMPT_REPRESENTATIONS:\n",
    "    for schema_info in SCHEMA_INFO_OPTION:\n",
    "        print(f'prompt_repr: {prompt_repr}, schema_info: {schema_info}')\n",
    "        prompts = PromptFactory.build_prompts(\n",
    "            prompt_type = prompt_repr,\n",
    "            samples=test_samples,\n",
    "            schema_info_option=schema_info,\n",
    "        )\n",
    "        res = {\n",
    "            prompt_repr.value+ '$' + schema_info.value: prompts\n",
    "        }\n",
    "        PROMPTS_LIST.append(res)"
   ]
  },
  {
   "cell_type": "markdown",
   "id": "5b5571d9",
   "metadata": {},
   "source": [
    "## BASE + META INFO"
   ]
  },
  {
   "cell_type": "code",
   "execution_count": 11,
   "id": "4b592c53",
   "metadata": {},
   "outputs": [
    {
     "name": "stdout",
     "output_type": "stream",
     "text": [
      "prompt_repr: PromptRepresentationType.OAI, schema_info: ShemaInfoOptions.FULL_SCHEMA + FK\n"
     ]
    },
    {
     "name": "stderr",
     "output_type": "stream",
     "text": [
      "Building prompts: 100%|██████████| 1034/1034 [00:00<00:00, 180772.39prompt/s]\n"
     ]
    },
    {
     "name": "stdout",
     "output_type": "stream",
     "text": [
      "prompt_repr: PromptRepresentationType.REASONING, schema_info: ShemaInfoOptions.FULL_SCHEMA + FK\n"
     ]
    },
    {
     "name": "stderr",
     "output_type": "stream",
     "text": [
      "Building prompts: 100%|██████████| 1034/1034 [00:00<00:00, 170181.70prompt/s]\n"
     ]
    }
   ],
   "source": [
    "for prompt_repr in PROMPT_REPRESENTATIONS:\n",
    "    for schema_info in SCHEMA_INFO_OPTION:\n",
    "        print(f'prompt_repr: {prompt_repr}, schema_info: {schema_info} + FK')\n",
    "        prompts = PromptFactory.build_prompts(\n",
    "            prompt_type = prompt_repr,\n",
    "            samples=test_samples,\n",
    "            schema_info_option=schema_info,\n",
    "            add_fk_info=True,\n",
    "        )\n",
    "        res = {\n",
    "            prompt_repr.value+ '$' + schema_info.value + '$' + 'fk': prompts\n",
    "        }\n",
    "        PROMPTS_LIST.append(res)"
   ]
  },
  {
   "cell_type": "markdown",
   "id": "787414f1",
   "metadata": {},
   "source": [
    "## BASE + META INFO + EXAMPLES"
   ]
  },
  {
   "cell_type": "code",
   "execution_count": 12,
   "id": "f2c49f9d",
   "metadata": {},
   "outputs": [
    {
     "name": "stdout",
     "output_type": "stream",
     "text": [
      "prompt_repr: PromptRepresentationType.OAI, schema_info: ShemaInfoOptions.FULL_SCHEMA, example_selection_type: ExampleSelectionType.RAND_HARDNESS, k: 3\n"
     ]
    },
    {
     "name": "stderr",
     "output_type": "stream",
     "text": [
      "Building prompts: 100%|██████████| 1034/1034 [00:33<00:00, 30.61prompt/s]\n"
     ]
    },
    {
     "name": "stdout",
     "output_type": "stream",
     "text": [
      "prompt_repr: PromptRepresentationType.OAI, schema_info: ShemaInfoOptions.FULL_SCHEMA, example_selection_type: ExampleSelectionType.RAND_HARDNESS, k: 5\n"
     ]
    },
    {
     "name": "stderr",
     "output_type": "stream",
     "text": [
      "Building prompts: 100%|██████████| 1034/1034 [00:33<00:00, 31.15prompt/s]\n"
     ]
    },
    {
     "name": "stdout",
     "output_type": "stream",
     "text": [
      "prompt_repr: PromptRepresentationType.OAI, schema_info: ShemaInfoOptions.FULL_SCHEMA, example_selection_type: ExampleSelectionType.COSINE_SIM_HARDNESS, k: 3\n"
     ]
    },
    {
     "name": "stderr",
     "output_type": "stream",
     "text": [
      "Building prompts: 100%|██████████| 1034/1034 [00:35<00:00, 28.89prompt/s]\n"
     ]
    },
    {
     "name": "stdout",
     "output_type": "stream",
     "text": [
      "prompt_repr: PromptRepresentationType.OAI, schema_info: ShemaInfoOptions.FULL_SCHEMA, example_selection_type: ExampleSelectionType.COSINE_SIM_HARDNESS, k: 5\n"
     ]
    },
    {
     "name": "stderr",
     "output_type": "stream",
     "text": [
      "Building prompts: 100%|██████████| 1034/1034 [00:36<00:00, 28.18prompt/s]\n"
     ]
    },
    {
     "name": "stdout",
     "output_type": "stream",
     "text": [
      "prompt_repr: PromptRepresentationType.REASONING, schema_info: ShemaInfoOptions.FULL_SCHEMA, example_selection_type: ExampleSelectionType.RAND_HARDNESS, k: 3\n"
     ]
    },
    {
     "name": "stderr",
     "output_type": "stream",
     "text": [
      "Building prompts: 100%|██████████| 1034/1034 [00:33<00:00, 30.90prompt/s]\n"
     ]
    },
    {
     "name": "stdout",
     "output_type": "stream",
     "text": [
      "prompt_repr: PromptRepresentationType.REASONING, schema_info: ShemaInfoOptions.FULL_SCHEMA, example_selection_type: ExampleSelectionType.RAND_HARDNESS, k: 5\n"
     ]
    },
    {
     "name": "stderr",
     "output_type": "stream",
     "text": [
      "Building prompts: 100%|██████████| 1034/1034 [00:33<00:00, 31.15prompt/s]\n"
     ]
    },
    {
     "name": "stdout",
     "output_type": "stream",
     "text": [
      "prompt_repr: PromptRepresentationType.REASONING, schema_info: ShemaInfoOptions.FULL_SCHEMA, example_selection_type: ExampleSelectionType.COSINE_SIM_HARDNESS, k: 3\n"
     ]
    },
    {
     "name": "stderr",
     "output_type": "stream",
     "text": [
      "Building prompts: 100%|██████████| 1034/1034 [00:35<00:00, 28.87prompt/s]\n"
     ]
    },
    {
     "name": "stdout",
     "output_type": "stream",
     "text": [
      "prompt_repr: PromptRepresentationType.REASONING, schema_info: ShemaInfoOptions.FULL_SCHEMA, example_selection_type: ExampleSelectionType.COSINE_SIM_HARDNESS, k: 5\n"
     ]
    },
    {
     "name": "stderr",
     "output_type": "stream",
     "text": [
      "Building prompts: 100%|██████████| 1034/1034 [00:35<00:00, 28.88prompt/s]\n"
     ]
    }
   ],
   "source": [
    "for prompt_repr in PROMPT_REPRESENTATIONS:\n",
    "    for schema_info in SCHEMA_INFO_OPTION:\n",
    "        for example_selection_type in EXAMPLE_SELECTION_TYPES:\n",
    "            for k in ks:\n",
    "                print(f'prompt_repr: {prompt_repr}, schema_info: {schema_info}, example_selection_type: {example_selection_type}, k: {k}')\n",
    "                prompts = PromptFactory.build_prompts(\n",
    "                    prompt_type = prompt_repr,\n",
    "                    samples=test_samples,\n",
    "                    examples=samples_for_examples,\n",
    "                    example_selection_type=example_selection_type,\n",
    "                    k=k,\n",
    "                    schema_info_option=schema_info,\n",
    "                    add_fk_info=True,\n",
    "                )\n",
    "                res = {\n",
    "                    prompt_repr.value+ '$' + schema_info.value + '$' + 'fk' + '$' + example_selection_type.value + '$' + str(k): prompts\n",
    "                }\n",
    "                PROMPTS_LIST.append(res)"
   ]
  },
  {
   "cell_type": "markdown",
   "id": "47f91267",
   "metadata": {},
   "source": [
    "---"
   ]
  },
  {
   "cell_type": "code",
   "execution_count": 13,
   "id": "dcf12e2f",
   "metadata": {},
   "outputs": [],
   "source": [
    "with open(OUTPUT_FILE, \"w\") as f:\n",
    "    json.dump(PROMPTS_LIST, f, indent=2)"
   ]
  },
  {
   "cell_type": "code",
   "execution_count": 14,
   "id": "eb4afb14",
   "metadata": {},
   "outputs": [],
   "source": [
    "with open('./pipeline_results/dev_gold.txt', 'w') as f:\n",
    "    for t in test_samples:\n",
    "        f.write(t.query_gold + '\\t' + t.db_id +'\\n')"
   ]
  },
  {
   "cell_type": "markdown",
   "id": "53ed1321",
   "metadata": {},
   "source": [
    "## Check prompts"
   ]
  },
  {
   "cell_type": "code",
   "execution_count": 15,
   "id": "abe2ccb9",
   "metadata": {},
   "outputs": [
    {
     "name": "stdout",
     "output_type": "stream",
     "text": [
      "Key: openai$full_schema\n",
      "Key: reasoning$full_schema\n",
      "Key: openai$full_schema$fk\n",
      "Key: reasoning$full_schema$fk\n",
      "Key: openai$full_schema$fk$random_hardness$3\n",
      "Key: openai$full_schema$fk$random_hardness$5\n",
      "Key: openai$full_schema$fk$cosine_sim_hardness$3\n",
      "Key: openai$full_schema$fk$cosine_sim_hardness$5\n",
      "Key: reasoning$full_schema$fk$random_hardness$3\n",
      "Key: reasoning$full_schema$fk$random_hardness$5\n",
      "Key: reasoning$full_schema$fk$cosine_sim_hardness$3\n",
      "Key: reasoning$full_schema$fk$cosine_sim_hardness$5\n"
     ]
    }
   ],
   "source": [
    "with open(OUTPUT_FILE, 'r') as f:\n",
    "    list_of_dicts = json.load(f)\n",
    "\n",
    "prompt_merged_dict = {}\n",
    "for d in list_of_dicts:\n",
    "    prompt_merged_dict.update(d)\n",
    "\n",
    "for k in prompt_merged_dict.keys():\n",
    "    print(f'Key: {k}')"
   ]
  },
  {
   "cell_type": "code",
   "execution_count": 16,
   "id": "6e689ec2",
   "metadata": {},
   "outputs": [
    {
     "name": "stdout",
     "output_type": "stream",
     "text": [
      "960\n",
      "961\n"
     ]
    }
   ],
   "source": [
    "for i,s in enumerate(test_samples):\n",
    "    if s.query_gold == 'SELECT T1.last_name FROM Owners AS T1 JOIN Dogs AS T2 ON T1.owner_id  =  T2.owner_id WHERE T2.age  =  ( SELECT max(age) FROM Dogs )':\n",
    "        print(i)\n",
    "        "
   ]
  },
  {
   "cell_type": "code",
   "execution_count": 18,
   "id": "03aea627",
   "metadata": {},
   "outputs": [
    {
     "name": "stdout",
     "output_type": "stream",
     "text": [
      "### Complete sqlite SQL query only and with no explanation.\n",
      "### SQLite SQL tables, with their properties:\n",
      "#\n",
      "# breeds: (breed_code, breed_name)\n",
      "# charges: (charge_id, charge_type, charge_amount)\n",
      "# sizes: (size_code, size_description)\n",
      "# treatment_types: (treatment_type_code, treatment_type_description)\n",
      "# owners: (owner_id, first_name, last_name, street, city, state, zip_code, email_address, home_phone, cell_number)\n",
      "# dogs: (dog_id, owner_id, abandoned_yn, breed_code, size_code, name, age, date_of_birth, gender, weight, date_arrived, date_adopted, date_departed)\n",
      "# professionals: (professional_id, role_code, first_name, street, city, state, zip_code, last_name, email_address, home_phone, cell_number)\n",
      "# treatments: (treatment_id, dog_id, professional_id, treatment_type_code, date_of_treatment, cost_of_treatment)\n",
      "#\n",
      "### Question: List the last name of the owner owning the youngest dog.\n",
      "### Answer: SELECT\n"
     ]
    }
   ],
   "source": [
    "print(prompt_merged_dict['openai$full_schema'][960])"
   ]
  },
  {
   "cell_type": "code",
   "execution_count": 19,
   "id": "1e19c408",
   "metadata": {},
   "outputs": [
    {
     "name": "stdout",
     "output_type": "stream",
     "text": [
      "### Complete sqlite SQL query only and with no explanation.\n",
      "### SQLite SQL tables, with their properties:\n",
      "#\n",
      "# conductor: (conductor_id, name, age, nationality, year_of_work)\n",
      "# orchestra: (orchestra_id, orchestra, conductor_id, record_company, year_of_founded, major_record_format)\n",
      "# performance: (performance_id, orchestra_id, type, date, official_ratings_(millions), weekly_rank, share)\n",
      "# show: (show_id, performance_id, if_first_show, result, attendance)\n",
      "#\n",
      "### Question: What are the names of conductors whose nationalities are not \"USA\"?\n",
      "### Answer: SELECT\n"
     ]
    }
   ],
   "source": [
    "print(prompt_merged_dict['openai$full_schema'][826])"
   ]
  },
  {
   "cell_type": "code",
   "execution_count": 20,
   "id": "191d1028",
   "metadata": {},
   "outputs": [
    {
     "name": "stdout",
     "output_type": "stream",
     "text": [
      "SELECT DISTINCT substr(v.phone_number, 1, 3) AS area_code FROM votes v JOIN contestants c1 ON v.contestant_number = c1.contestant_number WHERE c1.contestant_name = 'Tabatha Gehling' AND EXISTS ( SELECT 1 FROM votes v2 JOIN contestants c2 ON v2.contestant_number = c2.contestant_number WHERE substr(v2.phone_number, 1, 3) = substr(v.phone_number, 1, 3) AND c2.contestant_name = 'Kelly Clauss' ) AND EXISTS ( SELECT 1 FROM votes v3 JOIN contestants c3 ON v3.contestant_number = c3.contestant_number WHERE substr(v3.phone_number, 1, 3) = substr(v.phone_number, 1, 3) AND c3.contestant_name = 'Tabatha Gehling' )\n"
     ]
    }
   ],
   "source": [
    "# Remove newlines and tabs, and collapse multiple spaces\n",
    "sql = \"\"\"\n",
    "SELECT DISTINCT substr(v.phone_number, 1, 3) AS area_code\n",
    "FROM votes v\n",
    "JOIN contestants c1 ON v.contestant_number = c1.contestant_number\n",
    "WHERE c1.contestant_name = 'Tabatha Gehling'\n",
    "AND EXISTS (\n",
    "    SELECT 1 FROM votes v2\n",
    "    JOIN contestants c2 ON v2.contestant_number = c2.contestant_number\n",
    "    WHERE substr(v2.phone_number, 1, 3) = substr(v.phone_number, 1, 3)\n",
    "      AND c2.contestant_name = 'Kelly Clauss'\n",
    ")\n",
    "AND EXISTS (\n",
    "    SELECT 1 FROM votes v3\n",
    "    JOIN contestants c3 ON v3.contestant_number = c3.contestant_number\n",
    "    WHERE substr(v3.phone_number, 1, 3) = substr(v.phone_number, 1, 3)\n",
    "      AND c3.contestant_name = 'Tabatha Gehling'\n",
    ")\n",
    "\"\"\"\n",
    "\n",
    "import re\n",
    "single_line_sql = re.sub(r'\\s+', ' ', sql).strip()\n",
    "print(single_line_sql)"
   ]
  }
 ],
 "metadata": {
  "kernelspec": {
   "display_name": ".venv",
   "language": "python",
   "name": "python3"
  },
  "language_info": {
   "codemirror_mode": {
    "name": "ipython",
    "version": 3
   },
   "file_extension": ".py",
   "mimetype": "text/x-python",
   "name": "python",
   "nbconvert_exporter": "python",
   "pygments_lexer": "ipython3",
   "version": "3.10.4"
  }
 },
 "nbformat": 4,
 "nbformat_minor": 5
}
